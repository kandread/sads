{
 "cells": [
  {
   "cell_type": "markdown",
   "metadata": {},
   "source": [
    "In this notebook, we will run and verify the SWOT Assimilated DiScharge (SADS) algorithm against data from the SWOT Pepsi-1 challenge. We start by adding the SADS modules to the load path and importing them. "
   ]
  },
  {
   "cell_type": "code",
   "execution_count": 1,
   "metadata": {},
   "outputs": [],
   "source": [
    "@everywhere push!(LOAD_PATH,\"../src\")\n",
    "using CrossSections\n",
    "using Gvf\n",
    "using Kalman\n",
    "using NCDatasets\n",
    "using Distributions"
   ]
  },
  {
   "cell_type": "markdown",
   "metadata": {},
   "source": [
    "We load the data from the Po dataset file"
   ]
  },
  {
   "cell_type": "code",
   "execution_count": 2,
   "metadata": {},
   "outputs": [],
   "source": [
    "ds = Dataset(\"Po.nc\");\n",
    "xs = NCDatasets.group(ds, \"XS_Timeseries\");\n",
    "ri = NCDatasets.group(ds, \"River_Info\");"
   ]
  },
  {
   "cell_type": "code",
   "execution_count": 3,
   "metadata": {},
   "outputs": [],
   "source": [
    "qwbm = ri[\"QWBM\"][1];\n",
    "x = xs[\"X\"][:];\n",
    "W = xs[\"W\"][:, 1];\n",
    "H = xs[\"H\"][:, 1];\n",
    "Q = xs[\"Q\"][:, 1];"
   ]
  },
  {
   "cell_type": "markdown",
   "metadata": {},
   "source": [
    "We then generate an ensemble of discharge, bed slopes, roughness coefficients"
   ]
  },
  {
   "cell_type": "code",
   "execution_count": 4,
   "metadata": {},
   "outputs": [],
   "source": [
    "nens = 50;\n",
    "Qe = rand(Normal(qwbm, 200), nens);\n",
    "ne = rand(Uniform(0.01, 0.05), nens);\n",
    "S0 = rand(Normal(0.00019, 0.00005), nens);"
   ]
  },
  {
   "cell_type": "markdown",
   "metadata": {},
   "source": [
    "and then we can generate an ensemble of depth profiles using the GVF model after we calculate a downstream depth as the boundary condition. We use an assumption of normal flow to estimate that depth along with the observed water surface slope, which is\n",
    "\\begin{equation*}\n",
    "y = \\left( \\dfrac{n^2 Q^2}{W^2 S_{f}} \\right)^{3/10}\n",
    "\\end{equation*}"
   ]
  },
  {
   "cell_type": "code",
   "execution_count": 6,
   "metadata": {},
   "outputs": [],
   "source": [
    "sf = -(H[15] - H[1]) / (x[15] - x[1]);\n",
    "ye = (ne.^2 .* Qe.^2 ./ (W[15]^2 *sf)).^(3/10);"
   ]
  },
  {
   "cell_type": "code",
   "execution_count": null,
   "metadata": {},
   "outputs": [],
   "source": [
    "he = zeros(15, nens);\n",
    "for i in 1:nens\n",
    "    he[:, i] = gvf(Qe[i], mean(ye), S0[i], mean(ne), x[1:15], W[1:15]);\n",
    "end"
   ]
  }
 ],
 "metadata": {
  "kernelspec": {
   "display_name": "Julia 0.6.2",
   "language": "julia",
   "name": "julia-0.6"
  },
  "language_info": {
   "file_extension": ".jl",
   "mimetype": "application/julia",
   "name": "julia",
   "version": "0.6.2"
  }
 },
 "nbformat": 4,
 "nbformat_minor": 2
}
