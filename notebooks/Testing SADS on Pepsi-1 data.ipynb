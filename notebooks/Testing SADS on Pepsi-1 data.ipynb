{
 "cells": [
  {
   "cell_type": "markdown",
   "metadata": {},
   "source": [
    "In this notebook, we will run and verify the SWOT Assimilated DiScharge (SADS) algorithm against data from the SWOT Pepsi-1 challenge. We start by adding the SADS modules to the load path and importing them. "
   ]
  },
  {
   "cell_type": "code",
   "execution_count": 17,
   "metadata": {},
   "outputs": [],
   "source": [
    "@everywhere push!(LOAD_PATH,\"../src\")\n",
    "using CrossSections\n",
    "using Gvf\n",
    "using Kalman\n",
    "using NCDatasets\n",
    "using Distributions"
   ]
  },
  {
   "cell_type": "markdown",
   "metadata": {},
   "source": [
    "We load the data from the Po dataset file"
   ]
  },
  {
   "cell_type": "code",
   "execution_count": 12,
   "metadata": {},
   "outputs": [],
   "source": [
    "ds = Dataset(\"Po.nc\");\n",
    "xs = NCDatasets.group(ds, \"XS_Timeseries\");\n",
    "ri = NCDatasets.group(ds, \"River_Info\");"
   ]
  },
  {
   "cell_type": "code",
   "execution_count": 14,
   "metadata": {},
   "outputs": [],
   "source": [
    "qwbm = ri[\"QWBM\"][1];\n",
    "x = xs[\"X\"][:];\n",
    "W = xs[\"W\"][:, 1];\n",
    "H = xs[\"H\"][:, 1];\n",
    "Q = xs[\"Q\"][:, 1];"
   ]
  },
  {
   "cell_type": "markdown",
   "metadata": {},
   "source": [
    "We then generate an ensemble of discharge, bed slopes, roughness coefficients"
   ]
  },
  {
   "cell_type": "code",
   "execution_count": 18,
   "metadata": {},
   "outputs": [],
   "source": [
    "nens = 50;\n",
    "Qe = rand(Normal(qwbm, 200), nens);\n",
    "ne = rand(Uniform(0.01, 0.05), nens);\n",
    "S0 = rand(Normal(0.00019, 0.00005), nens);"
   ]
  }
 ],
 "metadata": {
  "kernelspec": {
   "display_name": "Julia 0.6.3",
   "language": "julia",
   "name": "julia-0.6"
  },
  "language_info": {
   "file_extension": ".jl",
   "mimetype": "application/julia",
   "name": "julia",
   "version": "0.6.3"
  }
 },
 "nbformat": 4,
 "nbformat_minor": 2
}
