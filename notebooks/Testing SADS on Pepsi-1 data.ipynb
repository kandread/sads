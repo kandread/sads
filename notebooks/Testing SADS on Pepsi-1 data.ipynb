{
 "cells": [
  {
   "cell_type": "markdown",
   "metadata": {},
   "source": [
    "In this notebook, we will run and verify the SWOT Assimilated DiScharge (SADS) algorithm against data from the SWOT Pepsi-1 challenge. We start by adding the SADS modules to the load path and importing them. "
   ]
  },
  {
   "cell_type": "code",
   "execution_count": 88,
   "metadata": {},
   "outputs": [],
   "source": [
    "@everywhere push!(LOAD_PATH,\"../src\")\n",
    "using Gvf\n",
    "using Kalman\n",
    "using NCDatasets\n",
    "using Distributions\n",
    "using Plots"
   ]
  },
  {
   "cell_type": "markdown",
   "metadata": {},
   "source": [
    "We load the data from the Po dataset file"
   ]
  },
  {
   "cell_type": "code",
   "execution_count": 16,
   "metadata": {},
   "outputs": [],
   "source": [
    "ds = Dataset(\"Po.nc\");\n",
    "xs = NCDatasets.group(ds, \"XS_Timeseries\");\n",
    "ri = NCDatasets.group(ds, \"River_Info\");"
   ]
  },
  {
   "cell_type": "code",
   "execution_count": 17,
   "metadata": {},
   "outputs": [],
   "source": [
    "qwbm = ri[\"QWBM\"][1];\n",
    "x = xs[\"X\"][:];\n",
    "W = xs[\"W\"][:, 1];\n",
    "H = xs[\"H\"][:, 1];\n",
    "Q = xs[\"Q\"][:, 1];"
   ]
  },
  {
   "cell_type": "markdown",
   "metadata": {},
   "source": [
    "We then generate an ensemble of discharge, bed slopes, roughness coefficients"
   ]
  },
  {
   "cell_type": "code",
   "execution_count": 65,
   "metadata": {},
   "outputs": [],
   "source": [
    "nens = 50;\n",
    "Qe = rand(Normal(qwbm, 200), nens);\n",
    "ne = rand(Uniform(0.01, 0.05), nens);\n",
    "S0 = rand(Normal(0.00019, 0.00005), nens);"
   ]
  },
  {
   "cell_type": "markdown",
   "metadata": {},
   "source": [
    "and then we can generate an ensemble of depth profiles using the GVF model after we calculate a downstream depth as the boundary condition. We use an assumption of normal flow to estimate that depth along with the observed water surface slope, which is\n",
    "\\begin{equation*}\n",
    "y = \\left( \\dfrac{n^2 Q^2}{W^2 S_{f}} \\right)^{3/10}\n",
    "\\end{equation*}\n",
    "for a rectangular cross section"
   ]
  },
  {
   "cell_type": "code",
   "execution_count": 66,
   "metadata": {},
   "outputs": [],
   "source": [
    "sf = -(H[5] - H[1]) / (x[5] - x[1]);\n",
    "ye = (ne.^2 .* Qe.^2 ./ (W[5]^2 *sf)).^(3/10);"
   ]
  },
  {
   "cell_type": "markdown",
   "metadata": {},
   "source": [
    "We also set the ensemble downstream bed elevation as \n",
    "$$z_{ds,mod} = h_{ds,obs} - y_{bc} $$"
   ]
  },
  {
   "cell_type": "code",
   "execution_count": 67,
   "metadata": {},
   "outputs": [],
   "source": [
    "ze = H[5] - ye;"
   ]
  },
  {
   "cell_type": "code",
   "execution_count": 68,
   "metadata": {},
   "outputs": [],
   "source": [
    "sobs = -mean(diff(H[1:5]) ./ diff(x[1:5]));\n",
    "Se = zeros(5, nens)\n",
    "he = zeros(5, nens);\n",
    "for i in 1:nens\n",
    "    se = -diff((S0[i] / sobs) * H[1:5]) ./ diff(x[1:5])\n",
    "    Se[:, i] = [se[1]; se]\n",
    "    #he[:, i] = gvf(Qe[i], mean(ye), ze[i], S0[i], mean(ne), x[1:5], W[1:5]);\n",
    "    he[:, i] = gvf(Qe[i], mean(ye), ze[i], Se[:, i], mean(ne), x[1:5], W[1:5]);\n",
    " end"
   ]
  },
  {
   "cell_type": "markdown",
   "metadata": {},
   "source": [
    "We will start with a synthetic experiment, wherein the we will use the first 20 members of the model ensemble as the prior ensemble for the assimilation and one random member as the synthetic observations. Let's create the matrices for the assimilation step."
   ]
  },
  {
   "cell_type": "markdown",
   "metadata": {},
   "source": [
    "The state matrix will contain the discharge"
   ]
  },
  {
   "cell_type": "code",
   "execution_count": 69,
   "metadata": {},
   "outputs": [
    {
     "data": {
      "text/plain": [
       "1×20 Array{Float64,2}:\n",
       " 888.493  964.804  637.658  373.327  …  856.682  735.206  862.438  1317.03"
      ]
     },
     "execution_count": 69,
     "metadata": {},
     "output_type": "execute_result"
    }
   ],
   "source": [
    "A = zeros(1, 20); A[:] = Qe[1:20]; A"
   ]
  },
  {
   "cell_type": "markdown",
   "metadata": {},
   "source": [
    "As we will be assimilating the water surface slope observations, the model-predicted observation matrix will be derived from the water surface profiles simulated by the GVF model."
   ]
  },
  {
   "cell_type": "code",
   "execution_count": 70,
   "metadata": {},
   "outputs": [
    {
     "data": {
      "text/plain": [
       "4×20 Array{Float64,2}:\n",
       " -0.441521   -0.513846  -0.235566   …  -0.358548   -0.463706   -0.632492\n",
       " -0.218216   -0.254969  -0.114988      -0.163449   -0.217836   -0.367887\n",
       " -0.127374   -0.149531  -0.0663012     -0.0905373  -0.122964   -0.246631\n",
       " -0.0882758  -0.104078  -0.0454801     -0.0604844  -0.0832119  -0.193252"
      ]
     },
     "execution_count": 70,
     "metadata": {},
     "output_type": "execute_result"
    }
   ],
   "source": [
    "hhe = he .+ (ze' .+ S0' .* (x[1:5] - x[1]))[end:-1:1,:];\n",
    "HA = zeros(size(hhe, 1)-1, 20); HA[:] = diff(hhe, 1)[:, 1:20]"
   ]
  },
  {
   "cell_type": "markdown",
   "metadata": {},
   "source": [
    "We compile the observation vector along with the observation error matrix (selecting a member not contained in the assimilation ensemble)."
   ]
  },
  {
   "cell_type": "code",
   "execution_count": 71,
   "metadata": {},
   "outputs": [
    {
     "data": {
      "text/plain": [
       "4-element Array{Float64,1}:\n",
       " -0.48705  \n",
       " -0.216228 \n",
       " -0.117639 \n",
       " -0.0776042"
      ]
     },
     "execution_count": 71,
     "metadata": {},
     "output_type": "execute_result"
    }
   ],
   "source": [
    "d = zeros(size(HA, 1)); d[:] = diff(hhe,1)[:, 45]"
   ]
  },
  {
   "cell_type": "code",
   "execution_count": 72,
   "metadata": {},
   "outputs": [],
   "source": [
    "E = rand(Normal(0., 1e-8), length(d), 20);"
   ]
  },
  {
   "cell_type": "markdown",
   "metadata": {},
   "source": [
    "Now let's estimate the discharge from the slope synthetic observations using the Square Root Ensemble Kalman Filter"
   ]
  },
  {
   "cell_type": "code",
   "execution_count": 73,
   "metadata": {},
   "outputs": [
    {
     "data": {
      "text/plain": [
       "1×1 Array{Float64,2}:\n",
       " 847.429"
      ]
     },
     "execution_count": 73,
     "metadata": {},
     "output_type": "execute_result"
    }
   ],
   "source": [
    "Qest = sqrtenkf(A, d, HA, E)"
   ]
  },
  {
   "cell_type": "markdown",
   "metadata": {},
   "source": [
    "We can compare that to the synthetic truth, which is "
   ]
  },
  {
   "cell_type": "code",
   "execution_count": 74,
   "metadata": {},
   "outputs": [
    {
     "data": {
      "text/plain": [
       "832.681155471703"
      ]
     },
     "execution_count": 74,
     "metadata": {},
     "output_type": "execute_result"
    }
   ],
   "source": [
    "Qe[45]"
   ]
  },
  {
   "cell_type": "markdown",
   "metadata": {},
   "source": [
    "whereas the prior was"
   ]
  },
  {
   "cell_type": "code",
   "execution_count": 75,
   "metadata": {},
   "outputs": [
    {
     "data": {
      "text/plain": [
       "839.268505328464"
      ]
     },
     "execution_count": 75,
     "metadata": {},
     "output_type": "execute_result"
    }
   ],
   "source": [
    "mean(Qe[1:20])"
   ]
  },
  {
   "cell_type": "markdown",
   "metadata": {},
   "source": [
    "We now turn to using the real observations from the Pepsi challenge dataset"
   ]
  },
  {
   "cell_type": "code",
   "execution_count": 85,
   "metadata": {},
   "outputs": [],
   "source": [
    "A = zeros(1, 50); A[:] = Qe;\n",
    "HA = zeros(4, 50); HA[:] = diff(hhe, 1);\n",
    "d = zeros(4); d[:] = diff(H[1:5]);\n",
    "E = rand(Normal(0., 1e-2), length(d), 50);"
   ]
  },
  {
   "cell_type": "code",
   "execution_count": 104,
   "metadata": {},
   "outputs": [
    {
     "data": {
      "text/plain": [
       "([1306.25], 858.8770271189103, 421.6117647058823, -0.22500000000000053)"
      ]
     },
     "execution_count": 104,
     "metadata": {},
     "output_type": "execute_result"
    }
   ],
   "source": [
    "Qest = sqrtenkf(A, d, HA, E), mean(Qe), mean(Q), mean(d)"
   ]
  },
  {
   "cell_type": "code",
   "execution_count": 103,
   "metadata": {},
   "outputs": [
    {
     "data": {
      "application/vnd.plotly.v1+json": {
       "data": [
        {
         "colorbar": {
          "title": ""
         },
         "legendgroup": "y1",
         "marker": {
          "color": "rgba(0, 154, 250, 1.000)",
          "line": {
           "color": "rgba(0, 0, 0, 1.000)",
           "width": 1
          },
          "size": 8,
          "symbol": "circle"
         },
         "mode": "markers",
         "name": "y1",
         "showlegend": true,
         "type": "scatter",
         "x": [
          888.4929495630543,
          964.8042787224716,
          637.6583021813675,
          373.32660502888643,
          782.7508997294833,
          627.5458405336574,
          1266.4320405450528,
          644.6622284286958,
          1220.946771830622,
          600.278089170433,
          1097.2696794889735,
          667.2372963435361,
          740.9042730282908,
          794.2301970730781,
          815.4325675184708,
          892.0386848955552,
          856.6816087144153,
          735.2057113769716,
          862.4382790822063,
          1317.0338033140563,
          884.0194844520994,
          1158.0593099907926,
          841.6030002329564,
          706.8438324573194,
          686.8324728686458,
          1129.426171335971,
          529.7313563997257,
          738.6172382928434,
          749.8858123490605,
          793.7947479324589,
          816.8931582797968,
          780.25088418855,
          952.0008099476319,
          835.546666596895,
          1076.529180537491,
          913.5555103937984,
          894.8154140230865,
          778.3223565886935,
          594.9730474715393,
          987.71957911727,
          1108.550820430952,
          1061.1508646358363,
          798.5643819500771,
          796.3631521399623,
          832.681155471703,
          967.1428323654136,
          633.8179705220148,
          1285.215904576297,
          794.3042106910077,
          1031.2699231363433
         ],
         "xaxis": "x1",
         "y": [
          -0.21884657207600888,
          -0.25560585498315813,
          -0.11558374695480467,
          -0.062459290209362806,
          -0.17822486195951281,
          -0.1241495186210031,
          -0.33477688957333473,
          -0.13296655642901456,
          -0.3162084626997741,
          -0.1411988017987289,
          -0.30715627251619804,
          -0.1483859157022982,
          -0.1862417530496554,
          -0.1788729880727722,
          -0.20678404345829993,
          -0.23236165763912453,
          -0.2022540655720304,
          -0.1682546488149823,
          -0.22192943539250098,
          -0.36006568728879973,
          -0.21109699296645612,
          -0.3026634955237206,
          -0.1939816748089047,
          -0.15422682374788543,
          -0.15105743777481084,
          -0.34332831682581144,
          -0.10387562532079198,
          -0.19500968896907356,
          -0.1798816312207112,
          -0.17501430227039005,
          -0.22025601307185472,
          -0.2237602073291418,
          -0.2327087020414691,
          -0.19192039034217778,
          -0.275514898921597,
          -0.24686900190120298,
          -0.20309618116606387,
          -0.17427565550567348,
          -0.11639322793911422,
          -0.27182992910894566,
          -0.2852647645305888,
          -0.2677053485256575,
          -0.21601061491478823,
          -0.18945743082266553,
          -0.22463019799958772,
          -0.29264631808083763,
          -0.13623913237355367,
          -0.3366292529569135,
          -0.1875976868843594,
          -0.2631422587461554
         ],
         "yaxis": "y1"
        }
       ],
       "layout": {
        "annotations": [],
        "height": 400,
        "margin": {
         "b": 20,
         "l": 0,
         "r": 0,
         "t": 20
        },
        "paper_bgcolor": "rgba(255, 255, 255, 1.000)",
        "plot_bgcolor": "rgba(255, 255, 255, 1.000)",
        "showlegend": false,
        "width": 600,
        "xaxis1": {
         "anchor": "y1",
         "domain": [
          0.10609871682706327,
          0.9934383202099737
         ],
         "gridcolor": "rgba(0, 0, 0, 0.100)",
         "gridwidth": 0.5,
         "linecolor": "rgba(0, 0, 0, 1.000)",
         "mirror": false,
         "range": [
          345.0153890803313,
          1345.3450192626115
         ],
         "showgrid": true,
         "showline": true,
         "showticklabels": true,
         "tickangle": 0,
         "tickcolor": "rgb(0, 0, 0)",
         "tickfont": {
          "color": "rgba(0, 0, 0, 1.000)",
          "family": "sans-serif",
          "size": 11
         },
         "tickmode": "array",
         "ticks": "inside",
         "ticktext": [
          "400",
          "600",
          "800",
          "1000",
          "1200"
         ],
         "tickvals": [
          400,
          600,
          800,
          1000,
          1200
         ],
         "title": "Discharge",
         "titlefont": {
          "color": "rgba(0, 0, 0, 1.000)",
          "family": "sans-serif",
          "size": 15
         },
         "type": "-",
         "visible": true,
         "zeroline": false,
         "zerolinecolor": "rgba(0, 0, 0, 1.000)"
        },
        "yaxis1": {
         "anchor": "x1",
         "domain": [
          0.07581474190726165,
          0.9901574803149606
         ],
         "gridcolor": "rgba(0, 0, 0, 0.100)",
         "gridwidth": 0.5,
         "linecolor": "rgba(0, 0, 0, 1.000)",
         "mirror": false,
         "range": [
          -0.3689938792011828,
          -0.0535310982969797
         ],
         "showgrid": true,
         "showline": true,
         "showticklabels": true,
         "tickangle": 0,
         "tickcolor": "rgb(0, 0, 0)",
         "tickfont": {
          "color": "rgba(0, 0, 0, 1.000)",
          "family": "sans-serif",
          "size": 11
         },
         "tickmode": "array",
         "ticks": "inside",
         "ticktext": [
          "-0.35",
          "-0.30",
          "-0.25",
          "-0.20",
          "-0.15",
          "-0.10"
         ],
         "tickvals": [
          -0.35000000000000003,
          -0.30000000000000004,
          -0.25,
          -0.2,
          -0.15000000000000002,
          -0.1
         ],
         "title": "$\\Delta h$",
         "titlefont": {
          "color": "rgba(0, 0, 0, 1.000)",
          "family": "sans-serif",
          "size": 15
         },
         "type": "-",
         "visible": true,
         "zeroline": false,
         "zerolinecolor": "rgba(0, 0, 0, 1.000)"
        }
       }
      },
      "text/html": [
       "<script src=\"file:///Users/kandread/.julia/v0.6/Plots/src/backends/../../deps/plotly-latest.min.js\"></script>    <div id=\"eaccd770-e301-44a0-97e0-f8aeecc071ad\" style=\"width:600px;height:400px;\"></div>\n",
       "    <script>\n",
       "    PLOT = document.getElementById('eaccd770-e301-44a0-97e0-f8aeecc071ad');\n",
       "    Plotly.plot(PLOT, [{\"xaxis\":\"x1\",\"colorbar\":{\"title\":\"\"},\"yaxis\":\"y1\",\"x\":[888.4929495630543,964.8042787224716,637.6583021813675,373.32660502888643,782.7508997294833,627.5458405336574,1266.4320405450528,644.6622284286958,1220.946771830622,600.278089170433,1097.2696794889735,667.2372963435361,740.9042730282908,794.2301970730781,815.4325675184708,892.0386848955552,856.6816087144153,735.2057113769716,862.4382790822063,1317.0338033140563,884.0194844520994,1158.0593099907926,841.6030002329564,706.8438324573194,686.8324728686458,1129.426171335971,529.7313563997257,738.6172382928434,749.8858123490605,793.7947479324589,816.8931582797968,780.25088418855,952.0008099476319,835.546666596895,1076.529180537491,913.5555103937984,894.8154140230865,778.3223565886935,594.9730474715393,987.71957911727,1108.550820430952,1061.1508646358363,798.5643819500771,796.3631521399623,832.681155471703,967.1428323654136,633.8179705220148,1285.215904576297,794.3042106910077,1031.2699231363433],\"showlegend\":true,\"mode\":\"markers\",\"name\":\"y1\",\"legendgroup\":\"y1\",\"marker\":{\"symbol\":\"circle\",\"color\":\"rgba(0, 154, 250, 1.000)\",\"line\":{\"color\":\"rgba(0, 0, 0, 1.000)\",\"width\":1},\"size\":8},\"y\":[-0.21884657207600888,-0.25560585498315813,-0.11558374695480467,-0.062459290209362806,-0.17822486195951281,-0.1241495186210031,-0.33477688957333473,-0.13296655642901456,-0.3162084626997741,-0.1411988017987289,-0.30715627251619804,-0.1483859157022982,-0.1862417530496554,-0.1788729880727722,-0.20678404345829993,-0.23236165763912453,-0.2022540655720304,-0.1682546488149823,-0.22192943539250098,-0.36006568728879973,-0.21109699296645612,-0.3026634955237206,-0.1939816748089047,-0.15422682374788543,-0.15105743777481084,-0.34332831682581144,-0.10387562532079198,-0.19500968896907356,-0.1798816312207112,-0.17501430227039005,-0.22025601307185472,-0.2237602073291418,-0.2327087020414691,-0.19192039034217778,-0.275514898921597,-0.24686900190120298,-0.20309618116606387,-0.17427565550567348,-0.11639322793911422,-0.27182992910894566,-0.2852647645305888,-0.2677053485256575,-0.21601061491478823,-0.18945743082266553,-0.22463019799958772,-0.29264631808083763,-0.13623913237355367,-0.3366292529569135,-0.1875976868843594,-0.2631422587461554],\"type\":\"scatter\"}], {\"showlegend\":false,\"paper_bgcolor\":\"rgba(255, 255, 255, 1.000)\",\"xaxis1\":{\"showticklabels\":true,\"gridwidth\":0.5,\"tickvals\":[400.0,600.0,800.0,1000.0,1200.0],\"visible\":true,\"ticks\":\"inside\",\"range\":[345.0153890803313,1345.3450192626115],\"domain\":[0.10609871682706327,0.9934383202099737],\"tickmode\":\"array\",\"linecolor\":\"rgba(0, 0, 0, 1.000)\",\"showgrid\":true,\"title\":\"Discharge\",\"mirror\":false,\"tickangle\":0,\"showline\":true,\"gridcolor\":\"rgba(0, 0, 0, 0.100)\",\"titlefont\":{\"color\":\"rgba(0, 0, 0, 1.000)\",\"family\":\"sans-serif\",\"size\":15},\"tickcolor\":\"rgb(0, 0, 0)\",\"ticktext\":[\"400\",\"600\",\"800\",\"1000\",\"1200\"],\"zeroline\":false,\"type\":\"-\",\"tickfont\":{\"color\":\"rgba(0, 0, 0, 1.000)\",\"family\":\"sans-serif\",\"size\":11},\"zerolinecolor\":\"rgba(0, 0, 0, 1.000)\",\"anchor\":\"y1\"},\"annotations\":[],\"height\":400,\"margin\":{\"l\":0,\"b\":20,\"r\":0,\"t\":20},\"plot_bgcolor\":\"rgba(255, 255, 255, 1.000)\",\"yaxis1\":{\"showticklabels\":true,\"gridwidth\":0.5,\"tickvals\":[-0.35000000000000003,-0.30000000000000004,-0.25,-0.2,-0.15000000000000002,-0.1],\"visible\":true,\"ticks\":\"inside\",\"range\":[-0.3689938792011828,-0.0535310982969797],\"domain\":[0.07581474190726165,0.9901574803149606],\"tickmode\":\"array\",\"linecolor\":\"rgba(0, 0, 0, 1.000)\",\"showgrid\":true,\"title\":\"$\\\\Delta h$\",\"mirror\":false,\"tickangle\":0,\"showline\":true,\"gridcolor\":\"rgba(0, 0, 0, 0.100)\",\"titlefont\":{\"color\":\"rgba(0, 0, 0, 1.000)\",\"family\":\"sans-serif\",\"size\":15},\"tickcolor\":\"rgb(0, 0, 0)\",\"ticktext\":[\"-0.35\",\"-0.30\",\"-0.25\",\"-0.20\",\"-0.15\",\"-0.10\"],\"zeroline\":false,\"type\":\"-\",\"tickfont\":{\"color\":\"rgba(0, 0, 0, 1.000)\",\"family\":\"sans-serif\",\"size\":11},\"zerolinecolor\":\"rgba(0, 0, 0, 1.000)\",\"anchor\":\"x1\"},\"width\":600});\n",
       "    </script>\n"
      ]
     },
     "execution_count": 103,
     "metadata": {},
     "output_type": "execute_result"
    }
   ],
   "source": [
    "using LaTeXStrings\n",
    "scatter(A', mean(HA, 1)', xlab=\"Discharge\", ylab=L\"\\Delta h\", legend=:none)"
   ]
  }
 ],
 "metadata": {
  "kernelspec": {
   "display_name": "Julia 0.6.0",
   "language": "julia",
   "name": "julia-0.6"
  },
  "language_info": {
   "file_extension": ".jl",
   "mimetype": "application/julia",
   "name": "julia",
   "version": "0.6.0"
  }
 },
 "nbformat": 4,
 "nbformat_minor": 2
}
